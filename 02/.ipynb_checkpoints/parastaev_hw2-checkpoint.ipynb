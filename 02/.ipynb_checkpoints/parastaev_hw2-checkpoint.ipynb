{
 "cells": [
  {
   "cell_type": "markdown",
   "metadata": {},
   "source": [
    "# Алгоритмы интеллектуальной обработки больших объемов данных\n",
    "## Домашнее задание №2: Линейные модели\n"
   ]
  },
  {
   "cell_type": "markdown",
   "metadata": {},
   "source": [
    "###### <hr\\>\n",
    "**Общая информация**\n",
    "\n",
    "**Срок сдачи:** 24 марта 18:00 Сдача **очная** на занятии. <br\\>\n",
    "\n",
    "\n",
    "Используйте данный Ipython Notebook при оформлении домашнего задания.\n",
    "\n",
    "**Штрафные баллы:**\n",
    "\n",
    "1. Невыполнение PEP8 -1 балл\n",
    "2. Отсутствие фамилии в имени скрипта (скрипт должен называться по аналогии со stroykova_hw2.ipynb) -1 балл\n",
    "3. Все строчки должны быть выполнены. Нужно, чтобы output команды можно было увидеть уже в git'е. В противном случае -1 балл\n",
    "4. При оформлении ДЗ нужно пользоваться данным файлом в качестве шаблона. Не нужно удалять и видоизменять написанный код и текст, если явно не указана такая возможность. В противном случае -1 балл\n",
    "<hr\\>"
   ]
  },
  {
   "cell_type": "code",
   "execution_count": 1,
   "metadata": {},
   "outputs": [],
   "source": [
    "import pandas as pd\n",
    "import numpy as np\n",
    "import matplotlib.pyplot as plt\n",
    "\n",
    "%matplotlib inline\n",
    "\n",
    "plt.style.use('ggplot')\n",
    "plt.rcParams['figure.figsize'] = (12, 5)\n"
   ]
  },
  {
   "cell_type": "markdown",
   "metadata": {},
   "source": [
    "Здравствуйте, уважаемые студенты! \n",
    "\n",
    "В этом задании мы будем реализовать линейные модели. Необходимо реализовать линейную и логистическую регрессии с L2 регуляризацией"
   ]
  },
  {
   "cell_type": "markdown",
   "metadata": {},
   "source": [
    "# Теоретическое введение\n",
    "\n"
   ]
  },
  {
   "cell_type": "markdown",
   "metadata": {},
   "source": [
    "Линейная регрессия решает задачу регрессии и оптимизирует функцию потерь MSE \n",
    "\n",
    "$$L(w) =  \\frac{1}{N}\\left[\\sum_i (y_i - a_i) ^ 2 \\right], $$ где $y_i$ $-$ целевая функция,  $a_i = a(x_i) =  \\langle\\,x_i,w\\rangle ,$ $-$ предсказание алгоритма на объекте $x_i$, $w$ $-$ вектор весов (размерности $D$), $x_i$ $-$ вектор признаков (такой же размерности $D$).\n",
    "\n",
    "Не забываем, что здесь и далее  мы считаем, что в $x_i$ есть тождественный вектор единиц, ему соответствует вес $w_0$.\n"
   ]
  },
  {
   "cell_type": "markdown",
   "metadata": {},
   "source": [
    "Логистическая регрессия является линейным классификатором, который оптимизирует так называемый функционал log loss:"
   ]
  },
  {
   "cell_type": "markdown",
   "metadata": {},
   "source": [
    "$$L(w) = - \\frac{1}{N}\\left[\\sum_i y_i \\log a_i + ( 1 - y_i) \\log (1 - a_i) \\right],$$\n",
    "где  $y_i  \\in \\{0,1\\}$ $-$ метка класса, $a_i$ $-$ предсказание алгоритма на объекте $x_i$. Модель пытается предсказать апостериорую вероятность объекта принадлежать к классу \"1\":\n",
    "$$ p(y_i = 1 | x_i) = a(x_i) =  \\sigma( \\langle\\,x_i,w\\rangle ),$$\n",
    "$w$ $-$ вектор весов (размерности $D$), $x_i$ $-$ вектор признаков (такой же размерности $D$).\n",
    "\n",
    "Функция $\\sigma(x)$ $-$ нелинейная функция, пероводящее скалярное произведение объекта на веса в число $\\in (0,1)$ (мы же моделируем вероятность все-таки!)\n",
    "\n",
    "$$\\sigma(x) = \\frac{1}{1 + \\exp(-x)}$$\n",
    "\n",
    "Если внимательно посмотреть на функцию потерь, то можно заметить, что в зависимости от правильного ответа алгоритм штрафуется или функцией $-\\log a_i$, или функцией $-\\log (1 - a_i)$.\n",
    "\n"
   ]
  },
  {
   "cell_type": "markdown",
   "metadata": {},
   "source": [
    "Часто для решения проблем, которые так или иначе связаны с проблемой переобучения, в функционал качества добавляют слагаемое, которое называют ***регуляризацией***. Итоговый функционал для линейной регрессии тогда принимает вид:\n",
    "\n",
    "$$L(w) =  \\frac{1}{N}\\left[\\sum_i (y_i - a_i) ^ 2 \\right] + \\frac{1}{C}R(w) $$\n",
    "\n",
    "Для логистической: \n",
    "$$L(w) = - \\frac{1}{N}\\left[\\sum_i y_i \\log a_i + ( 1 - y_i) \\log (1 - a_i) \\right] +  \\frac{1}{C}R(w)$$\n",
    "\n",
    "Самое понятие регуляризации введено основателем ВМК академиком Тихоновым https://ru.wikipedia.org/wiki/Метод_регуляризации_Тихонова\n",
    "\n",
    "Идейно методика регуляризации заключается в следующем $-$ мы рассматриваем некорректно поставленную задачу (что это такое можно найти в интернете), для того чтобы сузить набор различных вариантов (лучшие из которых будут являться переобучением ) мы вводим дополнительные ограничения на множество искомых решений. На лекции Вы уже рассмотрели два варианта регуляризации.\n",
    "\n",
    "$L1$ регуляризация:\n",
    "$$R(w) = \\sum_{j=1}^{D}|w_j|$$\n",
    "$L2$ регуляризация:\n",
    "$$R(w) =  \\sum_{j=1}^{D}w_j^2$$\n",
    "\n",
    "С их помощью мы ограничиваем модель в  возможности выбора каких угодно весов минимизирующих наш лосс, модель уже не сможет подстроиться под данные как ей угодно. \n",
    "\n",
    "Вам нужно добавить соотвествущую Вашему варианту $L2$ регуляризацию.\n",
    "\n",
    "И так, мы поняли, какую функцию ошибки будем минимизировать, разобрались, как получить предсказания по объекту и обученным весам. Осталось разобраться, как получить оптимальные веса. Для этого нужно выбрать какой-то метод оптимизации.\n",
    "\n"
   ]
  },
  {
   "cell_type": "markdown",
   "metadata": {},
   "source": [
    "Градиентный спуск является самым популярным алгоритмом обучения линейных моделей. В этом задании Вам предложат реализовать стохастический градиентный спуск или  мини-батч градиентный спуск (мини-батч на русский язык довольно сложно перевести, многие переводят это как \"пакетный\", но мне не кажется этот перевод удачным). Далее нам потребуется определение **эпохи**.\n",
    "Эпохой в SGD и MB-GD называется один проход по **всем** объектам в обучающей выборки.\n",
    "* В SGD градиент расчитывается по одному случайному объекту. Сам алгоритм выглядит примерно так:\n",
    "        1) Перемешать выборку\n",
    "        2) Посчитать градиент функции потерь на одном объекте (далее один объект тоже будем называть батчем)\n",
    "        3) Сделать шаг спуска\n",
    "        4) Повторять 2) и 3) пока не пройдет максимальное число эпох.\n",
    "* В Mini Batch SGD - по подвыборке объектов. Сам алгоритм выглядит примерно так::\n",
    "        1) Перемешать выборку, выбрать размер мини-батча (от 1 до размера выборки)\n",
    "        2) Почитать градиент функции потерь по мини-батчу (не забыть поделить на  число объектов в мини-батче)\n",
    "        3) Сделать шаг спуска\n",
    "        4) Повторять 2) и 3) пока не пройдет максимальное число эпох.\n",
    "* Для отладки алгоритма реализуйте возможность  вывода средней ошибки на обучении модели по объектам (мини-батчам). После шага градиентного спуска посчитайте значение ошибки на объекте (или мини-батче), а затем усредните, например, по ста шагам. Если обучение проходит корректно, то мы должны увидеть, что каждые 100 шагов функция потерь уменьшается. \n",
    "* Правило останова - максимальное количество эпох\n",
    "    \n"
   ]
  },
  {
   "cell_type": "markdown",
   "metadata": {},
   "source": [
    "# Теоретические вопросы (2 балла)\n",
    "В этой части Вам будут предложены теоретичские вопросы и задачи по теме. Вы, конечно, можете списать их у своего товарища или найти решение в интернете, но учтите, что они обязательно войдут в теоретический коллоквиум. Лучше разобраться в теме сейчас и успешно ответить на коллоквиуме, чем списать, не разобравшись в материале, и быть терзаемым совестью. \n",
    "\n",
    "\n",
    "Формулы надо оформлять в формате **LaTeX**."
   ]
  },
  {
   "cell_type": "markdown",
   "metadata": {},
   "source": [
    "Задача 1. Градиент для линейной регрессии.\n",
    "* Выпишите формулу обновления весов для линейной регрессии с L2 регуляризацией для мини-батч градиентого спуска размера $n$:\n",
    "\n",
    "$$ w_{new} = w_{old} - ... $$\n",
    "\n",
    " Отнеситесь к этому пункту максимально серьезно, это Вам нужно будет реализовать в задании.\n",
    " \n",
    "Проанализруйте итоговую формулу градиента - как  интуитивно можно  описать, чему равен градиент?"
   ]
  },
  {
   "cell_type": "markdown",
   "metadata": {},
   "source": [
    "***Ваше решение здесь***\n",
    "\n",
    "Формула обновления весов имеет вид\n",
    "$$ w_{new} = w_{old} - \\alpha\\nabla_{w}L(w_{old}),$$\n",
    "где функционал $ L(w)$ в нашем случае представляется так:\n",
    "$$ L(w) = \\dfrac{1}{N}\\sum_{i=1}^N\\left(y_i-\\left<x_i,w\\right>\\right)^2 + \\dfrac{1}{C}\\sum_{j=1}^Dw_j^2$$\n",
    "\n",
    "Вычисляем градиент в точке $w = w_{old}$:\n",
    "$$ \\nabla_wL(w_{old}) = \\dfrac{2}{N}\\sum_{i=1}^N\\left(\\left<x_i, w_{old}\\right> - y_i\\right)x_i + \\dfrac{2}{C}\\tilde{w}_{old} = \\dfrac{2}{C}\\tilde{w}_{old} + \\dfrac{2}{N}X^T(Xw_{old}-y), $$\n",
    "\n",
    "где $ \\tilde{w}_{old}$ - старый вектор весов, первая координата которого равна нулю вместо $ w_0 $.\n",
    "\n",
    "**Вопрос**: Проанализируйте итоговую формулу градиента - как интуитивно можно описать, чему равен градиент?\n",
    "\n",
    "**Ответ**: Градиент представляет собой усредненную по всей выборке удвоенную ошибку предсказания, растянутой на значения признаков каждого объекта с **добавкой от регуляризующего члена**: скорректированным старым вектором весов.\n",
    "\n",
    "\n",
    "Итоговая формула:\n",
    "$$ w_{new} = w_{old}-\\dfrac{2\\alpha}{C}\\tilde{w}_{old} - \\dfrac{2\\alpha}{N}X^T(Xw_{old}-y) $$"
   ]
  },
  {
   "cell_type": "markdown",
   "metadata": {},
   "source": [
    "Задача 2. Градиент для логистической регрессии.\n",
    "* Выпишите формулу обновления весов для логистической регрессии с L2 регуляризацией  для мини-батч градиентого спуска размера $n$:\n",
    "\n",
    "$$ w_{new} = w_{old} - ... $$\n",
    "\n",
    " Отнеситесь к этому пункту максимально серьезно, это Вам нужно будет реализовать в задании.\n",
    " \n",
    "Проанализруйте итоговую формулу градиента - как  интуитивно можно  описать, чему равен градиент? Как соотносится этот градиент с градиентом, возникающий в задаче линейной регрессии?\n",
    "\n",
    "Подсказка: Вам градиент, которой получается если “в лоб” продифференцировать,  надо немного преобразовать.\n",
    "Надо подставить, что $1 - \\sigma(w,x) $ это  $1 - a(x_i)$, а  $-\\sigma(w,x)$ это $0 - a(x_i)$.  Тогда получится свести к одной красивой формуле с линейной регрессией, которую программировать будет намного проще."
   ]
  },
  {
   "cell_type": "markdown",
   "metadata": {},
   "source": [
    "***Ваше решение здесь***\n",
    "\n",
    "Формула обновления весов имеет вид\n",
    "$$ w_{new} = w_{old} - \\alpha\\nabla_{w}L(w_{old}),$$\n",
    "где функционал $ L(w)$ в нашем случае представляется так:\n",
    "$$ L(w) = - \\dfrac{1}{N}\\left[\\sum_i y_i \\log a_i + ( 1 - y_i) \\log (1 - a_i) \\right] +  \\dfrac{1}{C}\\sum_{j=1}^Dw_j^2.$$\n",
    "\n",
    "Напомним, что\n",
    "$$ a_i = \\sigma(\\left<x_i, w\\right>), \\, \\sigma(x) = \\dfrac{1}{1+e^{-x}}.$$\n",
    "\n",
    "Для начала рассмотрим член $ S(w) = y_i \\log a_i + ( 1 - y_i) \\log (1 - a_i) $ и найдем его градиент, помня, что $a_i \\equiv a_i(w)$:\n",
    "$$ \\nabla_wS(w) = y_i \\dfrac{\\nabla_w{a_i(w)}}{a_i} - (1-y_i)\\dfrac{\\nabla_w{a_i(w)}}{1-a_i} = \\nabla_w{a_i(w)} \\cdot \\dfrac{y_i(1-a_i) - a_i(1-y_i)}{a_i(1-a_i)} = \\\\ = \\left(y_i - a_i\\right) \\cdot \\dfrac{\\nabla_w{a_i(w)}}{a_i(1-a_i)}. $$\n",
    "\n",
    "Далее заметим, что\n",
    "\n",
    "$$ \\dfrac{\\nabla_w{a_i(w)}}{a_i\\left(1-a_i\\right)} = \\nabla_w{\\left(\\dfrac{1}{1+e^{-\\left<x_i, w\\right>}}\\right)} \\cdot \\left(\\dfrac{1}{1+e^{-\\left<x_i, w\\right>}} \\cdot \\dfrac{e^{-\\left<x_i, w\\right>}}{1+e^{-\\left<x_i, w\\right>}} \\right)^{-1} = \\\\ = x_i\\dfrac{e^{-\\left<x_i, w\\right>}}{\\left(1+e^{-\\left<x_i, w\\right>}\\right)^2} \\cdot \\left(\\dfrac{e^{-\\left<x_i, w\\right>}}{\\left(1+e^{-\\left<x_i, w\\right>}\\right)^2} \\right)^{-1} = x_i.$$\n",
    "\n",
    "Окончательно получаем выражение для градиента $ S(w)$:\n",
    "$$ \\nabla_wS(w) = \\left(y_i - \\sigma(\\left<x_i, w\\right>)\\right)x_i.$$\n",
    "\n",
    "Следовательно, градиент функционала $ L(w) $ в точке $w_{old}$ имеет следующий вид:\n",
    "$$ \\nabla_wL(w_{old}) = \\dfrac{1}{N}\\sum_{i=1}^N \\left(\\sigma(\\left<x_i, w_{old}\\right>) - y_i\\right)x_i +  \\dfrac{2}{C}\\tilde{w}_{old} = \\dfrac{2}{C}\\tilde{w}_{old} + \\dfrac{1}{N}X^T(\\sigma\\left(Xw_{old}\\right)-y).$$\n",
    "\n",
    "**Вопрос**: Проанализируйте итоговую формулу градиента - как интуитивно можно описать, чему равен градиент? Как соотносится этот градиент с градиентом, возникающим в задаче линейной регрессии?\n",
    "\n",
    "**Ответ**: Здесь градиент представляет собой усредненную по всей выборке ошибку классификации, растянутую на значения признаков каждого объекта с добавкой от регуляризующего члена. Заметим, что градиенты получились похожей структуры с точностью до константы у усредненной ошибки за одним существенным различием: в логистической регрессии предсказанный ответ $\\sigma\\left(\\left<x_i, w\\right>\\right)$ равен **вероятности получить метку \"1\"**, в то время как в линейной регрессии $ \\sigma(x) \\equiv x $, то есть предсказанный ответ выражается напрямую через скалярное произведение и сопоставляется с **вещественным значением** целевой переменной.\n",
    "\n",
    "Итоговая формула:\n",
    "$$ w_{new} = w_{old}-\\dfrac{2\\alpha}{C}\\tilde{w}_{old} - \\dfrac{\\alpha}{N}X^T(\\sigma\\left(Xw_{old}\\right)-y) $$\n",
    "\n"
   ]
  },
  {
   "cell_type": "markdown",
   "metadata": {},
   "source": [
    "Задача 3. Точное решение линейной регрессии\n",
    "\n",
    "На лекции было показано, что точное решение линейной регрессии имеет вид $w = (X^TX)^{-1}X^TY $. \n",
    "* Покажите, что это действительно является точкой минимума в случае, если матрица X имеет строк не меньше, чем столбцов и имеет полный ранг. Подсказка: посчитайте Гессиан и покажите, что в этом случае он положительно определен. \n",
    "* Выпишите точное решение для модели с $L2$ регуляризацией. Как L2 регуляризация помогает с точным решением где матрица X имеет линейно зависимые признаки?"
   ]
  },
  {
   "cell_type": "markdown",
   "metadata": {},
   "source": [
    "***Ваше решение здесь***\n",
    "\n",
    "* Напомним выражение градиента, полученное при рассмотрении линейной регрессии: $$ \\nabla_{w}Q(w) = \\dfrac{2}{N}X^T\\left(Xw-y\\right).$$ Заметим, что $$ \\dfrac{\\partial^2 Q}{\\partial w_i\\partial w_j} = \\dfrac{\\partial}{\\partial w_j}\\left(\\dfrac{\\partial Q}{\\partial w_i}\\right) = \\dfrac{2}{N}\\dfrac{\\partial}{\\partial w_j}\\left(\\sum_{k=1}^D(X^TX)_{ik}w_k-(X^Ty)_i\\right) = \\dfrac{2}{N}(X^TX)_{ij}, $$ поэтому гессиан равен $$ H = \\dfrac{2}{N}X^TX. $$ Покажем, что гессиан является положительно определенной матрицей. Взяв любой вектор $z\\in\\mathbb{R}^D$, имеем\n",
    "$$ \\left<z, Hz\\right> = \\dfrac{2}{N}\\left<z, X^TXz\\right> = \\dfrac{2}{N}\\left\\|Xz\\right\\|^2 \\geq 0. $$\n",
    "\n",
    "* Функционал имеет следующий вид: $$ L(w) = \\dfrac{1}{N}\\left\\|y-Xw\\right\\|^2 + \\dfrac{1}{C}\\left\\|w\\right\\|^2.$$ Выпишем необходимое условие экстремума: $$\\nabla_{w}L(w) = \\dfrac{2}{N}X^T\\left(Xw-y\\right) + \\dfrac{2}{C}w = 0.$$ Отсюда находим, что $$ w = \\left(X^TX + \\dfrac{N}{C}I\\right)^{-1}X^Ty. $$ Заметим, что в случае, если X имеет линейно зависимые признаки, то в таком случае det(X^TX) = 0, и встает вопрос о существовании обратной матрицы. Однако благодаря наличию L2-регуляризующего члена и, как следствие, константы $C$ определитель новой матрицы уже отличен от нуля, что позволяет нам устранить проблему обратимости."
   ]
  },
  {
   "cell_type": "markdown",
   "metadata": {},
   "source": [
    "Задача 4.  Предсказываем вероятности.\n",
    "\n",
    "Когда говорят о логистической регрессии, произносят фразу, что она \"предсказывает вероятности положительного класса\". Давайте разберемся, что же за этим стоит. Посчитаем математическое ожидание функции потерь и проверим, что предсказание алгоритма, оптимизирующее это мат. ожидание, будет являться вероятностью положительного класса. \n",
    "\n",
    "И так, функция потерь на объекте $x_i$, который имеет метку $y_i \\in \\{0,1\\}$  для предсказания $a(x_i)$ равна:\n",
    "$$L(y_i, b) =-[y_i == 1] \\log a(x_i)  - [y_i == 0] \\log(1 - a(x_i)) $$\n",
    "\n",
    "Где $[]$ означает индикатор $-$ он равен единице, если значение внутри него истинно, иначе он равен нулю. Тогда мат. ожидание при условии конкретного $x_i$  по определение мат. ожидания дискретной случайной величины:\n",
    "$$E(L | x_i) = -p(y_i = 1 |x_i ) \\log a(x_i)  - p(y_i = 0 | x_i) \\log( 1 - a(x_i))$$\n",
    "* Докажите, что значение $a(x_i)$, минимизирующее данное мат. ожидание, в точности равно $p(y_i = 1 |x_i)$, то есть равно вероятности положительного класса.\n",
    "\n",
    "Подсказка: возможно, придется воспользоваться, что  $p(y_i = 1 | x_i) + p(y_i = 0 | x_i) = 1$"
   ]
  },
  {
   "cell_type": "markdown",
   "metadata": {},
   "source": [
    "***Ваше решение здесь***\n",
    "\n",
    "Воспользуемся необходимым условием экстремума:\n",
    "$$\\dfrac{d\\mathbb{E}\\left(L\\left|x_i\\right.\\right)}{da} = -\\dfrac{p(y_i = 1\\left|x_i\\right.)}{a} + \\dfrac{p(y_i = 0\\left|x_i\\right.)}{1-a} = \\dfrac{ap(y_i = 0\\left|x_i\\right.)-\\left(1-a\\right)p(y_i = 1\\left|x_i\\right.)}{a\\left(1-a\\right)} = \\\\ = \\dfrac{a\\left(p(y_i = 0\\left|x_i\\right.) + p(y_i = 1\\left|x_i\\right.)\\right)-p(y_i = 1\\left|x_i\\right.)}{a\\left(1-a\\right)} = \\dfrac{a-p(y_i = 1\\left|x_i\\right.)}{a\\left(1-a\\right)} = 0. $$\n",
    "\n",
    "Поскольку $ 0 < a < 1 $ и производная меняет знак с плюса на минус при прохождении через точку $ a^* = p(y_i = 1\\left|x_i\\right.)$, то $a^*$ является точкой минимума, что и требовалось доказать."
   ]
  },
  {
   "cell_type": "markdown",
   "metadata": {},
   "source": [
    "Задача 5.  Смысл регуляризации.\n",
    "\n",
    "Нужно ли в L1/L2 регуляризации использовать свободный член $w_0$ (который не умножается ни на какой признак)?\n",
    "\n",
    "Подсказка: подумайте, для чего мы вводим $w_0$"
   ]
  },
  {
   "cell_type": "markdown",
   "metadata": {},
   "source": [
    "***Ваше решение здесь***\n",
    "\n",
    "В L1/L2 регуляризации не нужно использовать свободный член $w_0$, поскольку он не влияет качественно на функцию, т.е. на ее сложность. Свободный член лишь указывает на смещение предсказания относительно начала координат."
   ]
  },
  {
   "cell_type": "markdown",
   "metadata": {},
   "source": [
    "#  Реализация линейной модели (4 балла)"
   ]
  },
  {
   "cell_type": "markdown",
   "metadata": {},
   "source": [
    "## Зачем нужны батчи?\n"
   ]
  },
  {
   "cell_type": "markdown",
   "metadata": {},
   "source": [
    "Как Вы могли заметить из теоретического введения, что в случае SGD, что в случа mini-batch GD,  на каждой итерации обновление весов  происходит только по небольшой части данных (1 пример в случае SGD, batch примеров в случае mini-batch). То есть для каждой итерации нам *** не нужна вся выборка***. Мы можем просто итерироваться по выборке, беря батч нужного размера (далее 1 объект тоже будем называть батчом).\n",
    "\n",
    "Легко заметить, что в этом случае нам не нужно загружать все данные в оперативную память, достаточно просто считать батч с диска, обновить веса, считать диска другой батч и так далее. В целях упрощения домашней работы, прямо с диска  мы считывать не будем, будем работать с обычными numpy array. \n",
    "\n",
    "\n",
    "\n"
   ]
  },
  {
   "cell_type": "markdown",
   "metadata": {},
   "source": [
    "## Немножко про генераторы в Python\n",
    "\n"
   ]
  },
  {
   "cell_type": "markdown",
   "metadata": {},
   "source": [
    "Идея считывания данных кусками удачно ложится на так называемые ***генераторы*** из языка Python. В данной работе Вам предлагается не только разобраться с логистической регрессией, но  и познакомиться с таким важным элементом языка.  При желании Вы можете убрать весь код, связанный с генераторами, и реализовать логистическую регрессию и без них, ***штрафоваться это никак не будет***. Главное, чтобы сама модель была реализована правильно, и все пункты были выполнены. \n",
    "\n",
    "Подробнее можно почитать вот тут https://anandology.com/python-practice-book/iterators.html\n"
   ]
  },
  {
   "cell_type": "markdown",
   "metadata": {},
   "source": [
    "К генератору стоит относиться просто как к функции, которая порождает не один объект, а целую последовательность объектов. Новое значение из последовательности генерируется с помощью ключевого слова ***yield***. Ниже Вы можете насладиться  генератором чисел Фибоначчи."
   ]
  },
  {
   "cell_type": "code",
   "execution_count": 192,
   "metadata": {},
   "outputs": [],
   "source": [
    "def fib(max_iter=4):\n",
    "    a, b = 0, 1\n",
    "    iter_num = 0\n",
    "    while 1:\n",
    "        yield a\n",
    "        a, b = b, a + b\n",
    "        iter_num += 1\n",
    "        if iter_num == max_iter:\n",
    "            break"
   ]
  },
  {
   "cell_type": "markdown",
   "metadata": {},
   "source": [
    "Вот так можно сгенерировать последовательность Фибоначчи. \n",
    "\n",
    "Заметьте, что к генераторам можно применять некоторые стандартные функции из Python, например enumerate."
   ]
  },
  {
   "cell_type": "code",
   "execution_count": 193,
   "metadata": {},
   "outputs": [
    {
     "name": "stdout",
     "output_type": "stream",
     "text": [
      "Fib num: 0 fib values: 0\n",
      "Fib num: 1 fib values: 1\n",
      "Fib num: 2 fib values: 1\n",
      "Fib num: 3 fib values: 2\n"
     ]
    }
   ],
   "source": [
    "new_generator = fib()\n",
    "for j, fib_val in enumerate(new_generator):\n",
    "    print (\"Fib num: \" + str(j) + \" fib values: \" + str(fib_val))"
   ]
  },
  {
   "cell_type": "markdown",
   "metadata": {},
   "source": [
    "Пересоздавая объект, можно сколько угодно раз генерировать заново последовательность. "
   ]
  },
  {
   "cell_type": "code",
   "execution_count": 194,
   "metadata": {},
   "outputs": [
    {
     "name": "stdout",
     "output_type": "stream",
     "text": [
      "Fib num: 0 fib values: 0\n",
      "Fib num: 1 fib values: 1\n",
      "Fib num: 2 fib values: 1\n",
      "Fib num: 3 fib values: 2\n",
      "Fib num: 0 fib values: 0\n",
      "Fib num: 1 fib values: 1\n",
      "Fib num: 2 fib values: 1\n",
      "Fib num: 3 fib values: 2\n",
      "Fib num: 0 fib values: 0\n",
      "Fib num: 1 fib values: 1\n",
      "Fib num: 2 fib values: 1\n",
      "Fib num: 3 fib values: 2\n"
     ]
    }
   ],
   "source": [
    "for i in range(0, 3):\n",
    "    new_generator = fib()\n",
    "    for j, fib_val in enumerate(new_generator):\n",
    "        print (\"Fib num: \" + str(j) + \" fib values: \" + str(fib_val))"
   ]
  },
  {
   "cell_type": "markdown",
   "metadata": {},
   "source": [
    "А вот так уже нельзя."
   ]
  },
  {
   "cell_type": "code",
   "execution_count": 195,
   "metadata": {},
   "outputs": [
    {
     "name": "stdout",
     "output_type": "stream",
     "text": [
      "Fib num: 0 fib values: 0\n",
      "Fib num: 1 fib values: 1\n",
      "Fib num: 2 fib values: 1\n",
      "Fib num: 3 fib values: 2\n"
     ]
    }
   ],
   "source": [
    "new_generator = fib()\n",
    "for i in range(0, 3):\n",
    "    for j, fib_val in enumerate(new_generator):\n",
    "        print (\"Fib num: \" + str(j) + \" fib values: \" + str(fib_val))"
   ]
  },
  {
   "cell_type": "markdown",
   "metadata": {},
   "source": [
    "Концепция крайне удобная для обучения  моделей $-$ у Вас есть некий источник данных, который Вам выдает их кусками, и Вам совершенно все равно откуда он их берет. Под ним может скрывать как массив в оперативной памяти, как файл на жестком диске, так и SQL база данных. Вы сами данные никуда не сохраняете, оперативную память экономите."
   ]
  },
  {
   "cell_type": "markdown",
   "metadata": {},
   "source": [
    "Если Вам понравилась идея с генераторами, то Вы можете реализовать свой, используя прототип batch_generator. В нем Вам нужно выдавать батчи признаков и ответов для каждой новой итерации спуска. Если не понравилась идея, то можете реализовывать SGD или mini-batch GD без генераторов."
   ]
  },
  {
   "cell_type": "code",
   "execution_count": 2,
   "metadata": {},
   "outputs": [],
   "source": [
    "def batch_generator(X, y, shuffle=True, batch_size=1):\n",
    "    \"\"\"\n",
    "    Гератор новых батчей для обучения\n",
    "    X          - матрица объекты-признаки\n",
    "    y_batch    - вектор ответов\n",
    "    shuffle    - нужно ли случайно перемешивать выборку\n",
    "    batch_size - размер батча ( 1 это SGD, > 1 mini-batch GD)\n",
    "    Генерирует подвыборку для итерации спуска (X_batch, y_batch)\n",
    "    \"\"\"\n",
    "    X_shuffled = X\n",
    "    y_shuffled = y\n",
    "    if shuffle:\n",
    "        Conc = np.c_[X_shuffled, y_shuffled]\n",
    "        np.random.shuffle(Conc)\n",
    "        X_shuffled, y_shuffled = np.split(Conc, [X.shape[1]], axis=1)\n",
    "    for i in np.arange(0, X.shape[0], batch_size):\n",
    "        X_batch = X_shuffled[i:i+batch_size, :]\n",
    "        y_batch = y_shuffled[i:i+batch_size]\n",
    "        yield (X_batch, y_batch)\n",
    "\n",
    "# Теперь можно сделать генератор по данным ()\n",
    "# my_batch_generator = batch_generator(X, y,\n",
    "# shuffle=True, batch_size=1):\n"
   ]
  },
  {
   "cell_type": "code",
   "execution_count": 5,
   "metadata": {},
   "outputs": [],
   "source": [
    "# %%pycodestyle\n",
    "from sklearn.base import BaseEstimator, ClassifierMixin\n",
    "\n",
    "\n",
    "def sigmoid(x):\n",
    "    \"\"\"\n",
    "    Вычисляем значение сигмоида.\n",
    "    X - выход линейной модели\n",
    "    \"\"\"\n",
    "    sigm_value_x = 1/(1+np.exp(-x))\n",
    "    return sigm_value_x\n",
    "\n",
    "\n",
    "class MySGDClassifier(BaseEstimator, ClassifierMixin):\n",
    "\n",
    "    def __init__(self, batch_generator, C=1, alpha=0.01, batch_size=1,\n",
    "                 threshold=0.5, max_epoch=10, model_type='lin_reg'):\n",
    "        \"\"\"\n",
    "        batch_generator -- функция генератор, которой будем создавать батчи\n",
    "        C - коэф. регуляризации\n",
    "        alpha - скорость спуска\n",
    "        batch_size - размер батча\n",
    "        threshold - порог\n",
    "        max_epoch - максимальное количество эпох\n",
    "        model_type - тим модели, lin_reg или log_reg\n",
    "        \"\"\"\n",
    "        self.C = C\n",
    "        self.alpha = alpha\n",
    "        self.max_epoch = max_epoch\n",
    "        self.batch_generator = batch_generator\n",
    "        self.batch_size = batch_size\n",
    "        self.threshold = threshold\n",
    "        self.errors_log = {'iter': [], 'loss': []}\n",
    "        self.model_type = model_type\n",
    "\n",
    "    def calc_loss(self, X_batch, y_batch):\n",
    "        \"\"\"\n",
    "        Считаем функцию потерь по батчу\n",
    "        X_batch - матрица объекты-признаки по батчу\n",
    "        y_batch - вектор ответов по батчу\n",
    "        Не забудте тип модели (линейная или логистическая регрессия)!\n",
    "        \"\"\"\n",
    "        lin_algrm = np.dot(X_batch, self.weights)\n",
    "        reglr_term = 1/self.C * np.linalg.norm(self.weights[1::])\n",
    "        if self.model_type == 'lin_reg':\n",
    "            error = np.linalg.norm(y_batch - lin_algrm)\n",
    "        elif self.model_type == 'log_reg':\n",
    "\n",
    "            # the following transform has been\n",
    "            # made here for logistic regression\n",
    "            # (for simplicity of calculations):\n",
    "            # ------------------------------------------------\n",
    "            # y_i*log(a_i) + (1-y_i)*log(1-a_i) =\n",
    "            # = log(1-a_i) + y_i * log(a_i/(1-a_i))\n",
    "            # Here log(a_i/(1-a_i)) =\n",
    "            # = log([1/(1+exp(-<x_i,w>))] / [exp(-<x_i,w>)/(1+exp(-<x_i,w>))])\n",
    "            # = log(exp(<x_i,w>)) = <x_i,w>\n",
    "            # Therefore, the expression can be written as follows:\n",
    "            # log(1-a_i) + y_i*<x_i,w>\n",
    "\n",
    "            log_transfm = np.log(1 - sigmoid(lin_algrm))\n",
    "            error = -(np.sum(log_transfm) + np.dot(y_batch.ravel(),\n",
    "                                                   lin_algrm.ravel()))\n",
    "        main_term = 1/X_batch.shape[0] * error\n",
    "        loss = main_term + reglr_term\n",
    "        return loss\n",
    "\n",
    "    def calc_loss_grad(self, X_batch, y_batch):\n",
    "        \"\"\"\n",
    "        Считаем градиент функции потерь по батчу\n",
    "        (то, что Вы вывели в задании 1)\n",
    "        X_batch - матрица объекты-признаки по батчу\n",
    "        y_batch - вектор ответов по батчу\n",
    "        Не забудьте тип модели (линейная или логистическая регрессия)!\n",
    "        \"\"\"\n",
    "        lin_algrm = np.dot(X_batch, self.weights)\n",
    "        reglr_term_grad = 2/self.C * np.append([[0]],\n",
    "                                               self.weights[1::], axis=0)\n",
    "        if self.model_type == 'lin_reg':\n",
    "            inn_prod = np.dot(X_batch.T, lin_algrm - y_batch)\n",
    "        elif self.model_type == 'log_reg':\n",
    "            inn_prod = np.dot(X_batch.T, sigmoid(lin_algrm) - y_batch)\n",
    "        main_term_grad = 1/X_batch.shape[0] * inn_prod\n",
    "        loss_grad = main_term_grad + reglr_term_grad\n",
    "        return loss_grad\n",
    "\n",
    "    def update_weights(self, new_grad):\n",
    "        \"\"\"\n",
    "        Обновляем вектор весов\n",
    "        new_grad - градиент по батчу\n",
    "        \"\"\"\n",
    "        self.weights = self.weights - self.alpha * new_grad\n",
    "\n",
    "    def fit(self, X, y):\n",
    "        '''\n",
    "        Обучение модели\n",
    "        X - матрица объекты-признаки\n",
    "        y - вектор ответов\n",
    "        '''\n",
    "        X_mod = np.hstack((np.ones(shape=(X.shape[0], 1), dtype=int), X))\n",
    "        # Нужно инициализровать случайно веса\n",
    "        self.weights = np.random.uniform(size=(X_mod.shape[1], 1))\n",
    "        for n in range(0, self.max_epoch):\n",
    "            new_epoch_generator = self.batch_generator(X_mod, y, True,\n",
    "                                                       self.batch_size)\n",
    "            for batch_num, new_batch in enumerate(new_epoch_generator):\n",
    "                X_batch = new_batch[0]\n",
    "                y_batch = new_batch[1]\n",
    "                batch_grad = self.calc_loss_grad(X_batch, y_batch)\n",
    "                self.update_weights(batch_grad)\n",
    "                # Подумайте, в каком месте стоит\n",
    "                # посчитать ошибку для отладки модели:\n",
    "                # до градиентного шага или после\n",
    "                batch_loss = self.calc_loss(X_batch, y_batch)\n",
    "                self.errors_log['iter'].append(batch_num)\n",
    "                self.errors_log['loss'].append(batch_loss)\n",
    "        return self\n",
    "\n",
    "    def predict(self, X):\n",
    "        '''\n",
    "        Предсказание класса\n",
    "        X - матрица объекты-признаки\n",
    "        Не забудте тип модели (линейная или логистическая регрессия)!\n",
    "        '''\n",
    "        if (self.model_type == 'lin_reg'):\n",
    "            y_hat = self.weights[0] + np.dot(X, self.weights[1::])\n",
    "        elif (self.model_type == 'log_reg'):\n",
    "            y_hat = (sigmoid(self.weights[0] +\n",
    "                     np.dot(X, self.weights[1::])) >\n",
    "                     self.threshold).astype(np.int).ravel()\n",
    "        # Желательно здесь использовать матричные операции между X и весами,\n",
    "        # например, numpy.dot\n",
    "        return y_hat\n"
   ]
  },
  {
   "cell_type": "markdown",
   "metadata": {},
   "source": [
    "Запустите обе регрессии на синтетических данных. \n",
    "\n",
    "\n",
    "Выведите полученные веса и нарисуйте разделяющую границу между классами (используйте только первых два веса для первых двух признаков X[:,0], X[:,1] для отображения в 2d пространство )."
   ]
  },
  {
   "cell_type": "code",
   "execution_count": 6,
   "metadata": {},
   "outputs": [],
   "source": [
    "def plot_decision_boundary(clf):\n",
    "    print(clf.weights.ravel())\n",
    "    X_min = np.min(X[:, 0]) - .5\n",
    "    X_max = np.max(X[:, 0]) + .5\n",
    "    Y_min = np.min(X[:, 1]) - .5\n",
    "    Y_max = np.max(X[:, 1]) + .5\n",
    "\n",
    "    X_grid, Y_grid = np.meshgrid(np.arange(X_min, X_max, .01),\n",
    "                                 np.arange(Y_min, Y_max, .01))\n",
    "    xy = np.c_[X_grid.ravel(), Y_grid.ravel()]\n",
    "    Z = clf.predict(xy).reshape(X_grid.shape)\n",
    "    plt.contour(X_grid, Y_grid, Z, levels=[0.5])\n"
   ]
  },
  {
   "cell_type": "code",
   "execution_count": 7,
   "metadata": {},
   "outputs": [
    {
     "name": "stdout",
     "output_type": "stream",
     "text": [
      "[-2.60624587  0.70096933 -0.57016207]\n"
     ]
    },
    {
     "data": {
      "text/plain": [
       "<matplotlib.collections.PathCollection at 0x7fca2c66e410>"
      ]
     },
     "execution_count": 7,
     "metadata": {},
     "output_type": "execute_result"
    },
    {
     "data": {
      "image/png": "[encoded data removed]",
      "text/plain": [
       "<Figure size 864x360 with 1 Axes>"
      ]
     },
     "metadata": {},
     "output_type": "display_data"
    }
   ],
   "source": [
    "np.random.seed(0)\n",
    "\n",
    "C1 = np.array([[0., -0.8], [1.5, 0.8]])\n",
    "C2 = np.array([[1., -0.7], [2., 0.7]])\n",
    "gauss1 = np.dot(np.random.randn(200, 2) + np.array([5, 3]), C1)\n",
    "gauss2 = np.dot(np.random.randn(200, 2) + np.array([1.5, 0]), C2)\n",
    "\n",
    "X = np.vstack([gauss1, gauss2])\n",
    "y = np.r_[np.ones(200), np.zeros(200)]\n",
    "\n",
    "clf = MySGDClassifier(batch_generator, C=np.inf,\n",
    "                      batch_size=1, model_type='log_reg')\n",
    "clf.fit(X, y)\n",
    "plot_decision_boundary(clf)\n",
    "\n",
    "plt.scatter(X[:,0], X[:,1], c=y)\n"
   ]
  },
  {
   "cell_type": "markdown",
   "metadata": {},
   "source": [
    "Далее будем анализировать Ваш алгоритм. \n",
    "Для этих заданий используйте датасет ниже."
   ]
  },
  {
   "cell_type": "code",
   "execution_count": 8,
   "metadata": {},
   "outputs": [],
   "source": [
    "from sklearn.datasets import make_classification\n"
   ]
  },
  {
   "cell_type": "code",
   "execution_count": 9,
   "metadata": {},
   "outputs": [],
   "source": [
    "X, y = make_classification(n_samples=100000, n_features=10,\n",
    "                           n_informative=4, n_redundant=0,\n",
    "                           random_state=123, class_sep=1.0,\n",
    "                           n_clusters_per_class=1)"
   ]
  },
  {
   "cell_type": "markdown",
   "metadata": {},
   "source": [
    "Покажите сходимости обеих регрессией на этом датасете: изобразите график  функции потерь, усредненной по $N$ шагам градиентого спуска, для разных `alpha` (размеров шага). Разные `alpha` расположите на одном графике. \n",
    "\n",
    "$N$ можно брать 10, 50, 100 и т.д. "
   ]
  },
  {
   "cell_type": "code",
   "execution_count": 10,
   "metadata": {},
   "outputs": [
    {
     "data": {
      "text/plain": [
       "Text(0.5, 1.0, 'Convergence')"
      ]
     },
     "execution_count": 10,
     "metadata": {},
     "output_type": "execute_result"
    },
    {
     "data": {
      "image/png": "[encoded data removed]",
      "text/plain": [
       "<Figure size 864x360 with 1 Axes>"
      ]
     },
     "metadata": {},
     "output_type": "display_data"
    }
   ],
   "source": [
    "# Your Code Here\n",
    "\n",
    "alpha_arr = np.logspace(-3, -1, num=5, base=10)\n",
    "line_up = []\n",
    "line_down = []\n",
    "\n",
    "for alpha_i in alpha_arr:\n",
    "    clf_lin = MySGDClassifier(batch_generator,\n",
    "                              batch_size=100, alpha=alpha_i)\n",
    "    clf_log = MySGDClassifier(batch_generator, batch_size=100,\n",
    "                              alpha=alpha_i, model_type='log_reg')\n",
    "    max_epoch = clf_lin.max_epoch\n",
    "\n",
    "    clf_lin.fit(X, y)\n",
    "    clf_log.fit(X, y)\n",
    "\n",
    "    loss_lin_avg = np.mean(np.array_split(\n",
    "                           np.vstack(clf_lin.errors_log['loss']),\n",
    "                           max_epoch), axis=1).ravel()\n",
    "    loss_log_avg = np.mean(np.array_split(\n",
    "                           np.vstack(clf_log.errors_log['loss']),\n",
    "                           max_epoch), axis=1).ravel()\n",
    "\n",
    "    line_up += plt.plot(np.arange(1, max_epoch + 1),\n",
    "                        loss_lin_avg, '-*',\n",
    "                        label='$alpha$ = ' + str(alpha_i))\n",
    "    line_down += plt.plot(np.arange(1, max_epoch + 1),\n",
    "                          loss_log_avg, '-o',\n",
    "                          label='$alpha$ = ' + str(alpha_i))\n",
    "\n",
    "plt.legend()\n",
    "plt.xlabel('Number of epochs, $N$')\n",
    "plt.ylabel('Averaged loss function value, $L$')\n",
    "plt.title('Convergence')\n"
   ]
  },
  {
   "cell_type": "markdown",
   "metadata": {},
   "source": [
    "Что Вы можете сказать про сходимость метода при различных `alpha`? Какое значение стоит выбирать для лучшей сходимости?"
   ]
  },
  {
   "cell_type": "markdown",
   "metadata": {},
   "source": [
    "**Ответ:** по построенному графику видим, что сходимость становится все более и более пологой при увеличении $\\alpha$. Как можно заметить, при $\\alpha = 0.1$ уже во время первой эпохи достигается минимальное значение функции потерь. Именно оно и будет считаться оптимальным для нашей задачи."
   ]
  },
  {
   "cell_type": "markdown",
   "metadata": {},
   "source": [
    "Изобразите график среднего значения весов для обеих регрессий в зависимости от коеф. регуляризации С из `np.logspace(3, -3, 10)` "
   ]
  },
  {
   "cell_type": "code",
   "execution_count": 11,
   "metadata": {},
   "outputs": [
    {
     "name": "stderr",
     "output_type": "stream",
     "text": [
      "/home/gripara/miniconda3/envs/sphere-py37/lib/python3.7/site-packages/ipykernel_launcher.py:92: RuntimeWarning: invalid value encountered in subtract\n",
      "/home/gripara/miniconda3/envs/sphere-py37/lib/python3.7/site-packages/ipykernel_launcher.py:61: RuntimeWarning: divide by zero encountered in log\n",
      "/home/gripara/miniconda3/envs/sphere-py37/lib/python3.7/site-packages/ipykernel_launcher.py:10: RuntimeWarning: overflow encountered in exp\n",
      "  # Remove the CWD from sys.path while we load stuff.\n",
      "/home/gripara/miniconda3/envs/sphere-py37/lib/python3.7/site-packages/ipykernel_launcher.py:78: RuntimeWarning: overflow encountered in multiply\n"
     ]
    },
    {
     "data": {
      "text/plain": [
       "<matplotlib.legend.Legend at 0x7fca2c92b910>"
      ]
     },
     "execution_count": 11,
     "metadata": {},
     "output_type": "execute_result"
    },
    {
     "data": {
      "image/png": "[encoded data removed]",
      "text/plain": [
       "<Figure size 864x360 with 1 Axes>"
      ]
     },
     "metadata": {},
     "output_type": "display_data"
    }
   ],
   "source": [
    "# Your Code Here\n",
    "\n",
    "C_arr = np.logspace(3, -3, 10)\n",
    "weight_avg = np.zeros(shape=(2, C_arr.shape[0]))\n",
    "\n",
    "for i in np.arange(0, C_arr.shape[0]):\n",
    "    clf_lin = MySGDClassifier(batch_generator,\n",
    "                              batch_size=100, C=C_arr[i], alpha=0.1)\n",
    "    clf_log = MySGDClassifier(batch_generator, batch_size=100,\n",
    "                              C=C_arr[i], alpha=0.1,\n",
    "                              model_type='log_reg')\n",
    "    clf_lin.fit(X, y)\n",
    "    clf_log.fit(X, y)\n",
    "\n",
    "    weight_avg[:, i] = np.hstack((np.mean(clf_lin.weights),\n",
    "                                 np.mean(clf_log.weights)))\n",
    "\n",
    "plt.plot(C_arr, weight_avg[0, :], '-o',\n",
    "         markersize=16, label='Linear regression')\n",
    "plt.plot(C_arr, weight_avg[1, :], '-*',\n",
    "         label='Logistic regression')\n",
    "plt.legend()\n"
   ]
  },
  {
   "cell_type": "markdown",
   "metadata": {},
   "source": [
    "Довольны ли Вы, насколько сильно уменьшились Ваши веса? "
   ]
  },
  {
   "cell_type": "markdown",
   "metadata": {},
   "source": [
    "**Ответ:** Да :)"
   ]
  },
  {
   "cell_type": "markdown",
   "metadata": {},
   "source": [
    "# Боевое применение (4  балла)\n",
    "\n",
    "**Защита данной части возможна только при преодолении в проекте бейзлайна Handmade baseline.**"
   ]
  },
  {
   "cell_type": "markdown",
   "metadata": {},
   "source": [
    "Давайте применим модель на итоговом проекте! Датасет сделаем точно таким же образом, как было показано в project_overview.ipynb\n",
    "\n",
    "Применим обе регрессии, подберем для них параметры и сравним качество. Может быть Вы еще одновременно с решением домашней работы подрастете на лидерборде!"
   ]
  },
  {
   "cell_type": "code",
   "execution_count": 51,
   "metadata": {},
   "outputs": [
    {
     "name": "stdout",
     "output_type": "stream",
     "text": [
      "28026\n"
     ]
    }
   ],
   "source": [
    "doc_to_title = {}\n",
    "with open('docs_titles.tsv') as f:\n",
    "    for num_line, line in enumerate(f):\n",
    "        if num_line == 0:\n",
    "            continue\n",
    "        data = line.strip().split('\\t', 1)\n",
    "        doc_id = int(data[0])\n",
    "        if len(data) == 1:\n",
    "            title = ''\n",
    "        else:\n",
    "            title = data[1]\n",
    "        doc_to_title[doc_id] = title\n",
    "print (len(doc_to_title))\n"
   ]
  },
  {
   "cell_type": "code",
   "execution_count": 52,
   "metadata": {},
   "outputs": [],
   "source": [
    "import pandas as pd\n",
    "train_data = pd.read_csv('train_groups.csv')\n",
    "traingroups_titledata = {}\n",
    "for i in range(len(train_data)):\n",
    "    new_doc = train_data.iloc[i]\n",
    "    doc_group = new_doc['group_id']\n",
    "    doc_id = new_doc['doc_id']\n",
    "    target = new_doc['target']\n",
    "    title = doc_to_title[doc_id]\n",
    "    if doc_group not in traingroups_titledata:\n",
    "        traingroups_titledata[doc_group] = []\n",
    "    traingroups_titledata[doc_group].append((doc_id, title, target))\n"
   ]
  },
  {
   "cell_type": "code",
   "execution_count": 53,
   "metadata": {},
   "outputs": [
    {
     "name": "stdout",
     "output_type": "stream",
     "text": [
      "(11690, 15) (11690,) (11690,)\n"
     ]
    }
   ],
   "source": [
    "import numpy as np\n",
    "y_train = []\n",
    "X_train = []\n",
    "groups_train = []\n",
    "for new_group in traingroups_titledata:\n",
    "    docs = traingroups_titledata[new_group]\n",
    "    for k, (doc_id, title, target_id) in enumerate(docs):\n",
    "        y_train.append(target_id)\n",
    "        groups_train.append(new_group)\n",
    "        all_dist = []\n",
    "        words = set(title.strip().split())\n",
    "        for j in range(0, len(docs)):\n",
    "            if k == j:\n",
    "                continue\n",
    "            doc_id_j, title_j, target_j = docs[j]\n",
    "            words_j = set(title_j.strip().split())\n",
    "            all_dist.append(len(words.intersection(words_j)))\n",
    "        X_train.append(sorted(all_dist, reverse=True)[0:15])\n",
    "X_train = np.array(X_train)\n",
    "y_train = np.array(y_train)\n",
    "groups_train = np.array(groups_train)\n",
    "print (X_train.shape, y_train.shape, groups_train.shape)\n"
   ]
  },
  {
   "cell_type": "markdown",
   "metadata": {},
   "source": [
    "Подберите размер батча для обучения. Линейная модель не должна учиться дольше нескольких минут. \n",
    "\n",
    "Не забывайте использовать скейлер!"
   ]
  },
  {
   "cell_type": "code",
   "execution_count": 54,
   "metadata": {},
   "outputs": [],
   "source": [
    "from sklearn.metrics import f1_score\n",
    "from sklearn.linear_model import LinearRegression, LogisticRegression\n",
    "from sklearn.preprocessing import StandardScaler\n",
    "from sklearn.model_selection import GroupKFold\n"
   ]
  },
  {
   "cell_type": "code",
   "execution_count": 55,
   "metadata": {},
   "outputs": [],
   "source": [
    "# Logistic Regression\n",
    "\n",
    "def get_score_log(clf_log, X_train, y_train, X_test, y_test):\n",
    "    clf_log.fit(X_train, y_train)\n",
    "    y_pred = clf_log.predict(X_test).ravel()\n",
    "    return f1_score(y_test, y_pred)\n",
    "\n",
    "# Ridge classifier (using Linear Regression)\n",
    "\n",
    "def get_score_lin(clf_lin, X_train, y_train, X_test, y_test):\n",
    "    clf_lin.fit(X_train, np.where(y_train == 0, -1, y_train))\n",
    "    y_pred_old = np.sign(clf_lin.predict(X_test).ravel()).astype(np.int)\n",
    "    y_pred = np.where(y_pred_old == -1, 0, y_pred_old)\n",
    "    return f1_score(y_test, y_pred)\n"
   ]
  },
  {
   "cell_type": "code",
   "execution_count": 56,
   "metadata": {},
   "outputs": [],
   "source": [
    "scaler = StandardScaler()\n",
    "X_train_stand = scaler.fit_transform(X_train)\n"
   ]
  },
  {
   "cell_type": "code",
   "execution_count": 57,
   "metadata": {},
   "outputs": [],
   "source": [
    "C_opt_lin = 10\n",
    "alpha_opt_lin = 0.0001\n",
    "max_epoch_opt_lin = 8\n",
    "\n",
    "# best current: C_opt_lin = 10\n",
    "# alpha_opt_lin = 0.0001\n",
    "# max_epoch_opt_lin = 8\n"
   ]
  },
  {
   "cell_type": "code",
   "execution_count": 58,
   "metadata": {},
   "outputs": [],
   "source": [
    "C_opt_log = np.inf\n",
    "alpha_opt_log = 0.001\n",
    "max_epoch_opt_log = 12\n",
    "th_opt_log = 0.625\n",
    "\n",
    "# best current: C_opt_log = np.inf\n",
    "# alpha_opt_log = 0.001\n",
    "# max_epoch_opt_log = 12\n"
   ]
  },
  {
   "cell_type": "code",
   "execution_count": 59,
   "metadata": {},
   "outputs": [],
   "source": [
    "clf_lin = MySGDClassifier(batch_generator, batch_size=100,\n",
    "                          C=C_opt_lin,\n",
    "                          alpha=alpha_opt_lin,\n",
    "                          max_epoch=max_epoch_opt_lin)\n",
    "\n",
    "clf_log = MySGDClassifier(batch_generator, batch_size=100,\n",
    "                          threshold=th_opt_log,\n",
    "                          C=C_opt_log,\n",
    "                          alpha=alpha_opt_log,\n",
    "                          max_epoch=max_epoch_opt_log,\n",
    "                          model_type='log_reg')\n"
   ]
  },
  {
   "cell_type": "markdown",
   "metadata": {},
   "source": [
    "Разбейте данные на обучение и валидацию. Подберите параметры C, alpha, max_epoch, model_type на валидации (Вы же помните, как правильно в этой задаче делать валидацию?)"
   ]
  },
  {
   "cell_type": "code",
   "execution_count": 60,
   "metadata": {},
   "outputs": [
    {
     "name": "stderr",
     "output_type": "stream",
     "text": [
      "/home/gripara/miniconda3/envs/sphere-py37/lib/python3.7/site-packages/ipykernel_launcher.py:61: RuntimeWarning: divide by zero encountered in log\n"
     ]
    },
    {
     "name": "stdout",
     "output_type": "stream",
     "text": [
      "Logistic regression score: 0.6008536541545864\n",
      "Ridge classifier score: 0.5975279454508566\n"
     ]
    }
   ],
   "source": [
    "n_launches = 1\n",
    "\n",
    "n_spl = 5\n",
    "g_kf = GroupKFold(n_splits=n_spl)\n",
    "scores_my_lin_avg = 0\n",
    "scores_my_log_avg = 0\n",
    "\n",
    "#for i in np.arange(0, n_launches):\n",
    "for train_index, test_index in g_kf.split(X_train_stand,\n",
    "                                          y_train, groups_train):\n",
    "    X_trainq = X_train_stand[train_index]\n",
    "    X_testq = X_train_stand[test_index]\n",
    "    y_trainq, y_testq = y_train[train_index], y_train[test_index]\n",
    "    scores_my_lin_avg += get_score_lin(clf_lin, X_trainq,\n",
    "                                       y_trainq, X_testq, y_testq)\n",
    "    scores_my_log_avg += get_score_log(clf_log, X_trainq,\n",
    "                                       y_trainq, X_testq, y_testq)\n",
    "\n",
    "print(\"Logistic regression score:\", scores_my_log_avg /\n",
    "      (n_spl*n_launches))\n",
    "print(\"Ridge classifier score:\", scores_my_lin_avg /\n",
    "      (n_spl*n_launches))\n"
   ]
  },
  {
   "cell_type": "markdown",
   "metadata": {
    "collapsed": true
   },
   "source": [
    "Подберите порог линейной модели, по достижении которого, Вы будете относить объект к классу 1. Вспомните, какую метрику мы оптимизируем в соревновании.  Как тогда правильно подобрать порог?"
   ]
  },
  {
   "cell_type": "code",
   "execution_count": null,
   "metadata": {},
   "outputs": [],
   "source": []
  },
  {
   "cell_type": "code",
   "execution_count": null,
   "metadata": {
    "collapsed": true
   },
   "outputs": [],
   "source": []
  },
  {
   "cell_type": "markdown",
   "metadata": {},
   "source": [
    "С лучшими параметрами на валидации сделайте предсказание на тестовом множестве, отправьте его на проверку на платформу kaggle. Убедитесь, что Вы смогли побить public score первого бейзлайна."
   ]
  },
  {
   "cell_type": "markdown",
   "metadata": {
    "collapsed": true
   },
   "source": [
    "** При сдаче домашки Вам необходимо кроме ссылки на ноутбук показать Ваш ник на kaggle, под которым Вы залили решение, которое побило Handmade baseline. **"
   ]
  },
  {
   "cell_type": "code",
   "execution_count": 61,
   "metadata": {},
   "outputs": [],
   "source": [
    "test_data = pd.read_csv('test_groups.csv')\n",
    "testgroups_titledata = {}\n",
    "for i in range(len(test_data)):\n",
    "    new_doc = test_data.iloc[i]\n",
    "    doc_group = new_doc['group_id']\n",
    "    doc_id = new_doc['doc_id']\n",
    "    title = doc_to_title[doc_id]\n",
    "    if doc_group not in testgroups_titledata:\n",
    "        testgroups_titledata[doc_group] = []\n",
    "    testgroups_titledata[doc_group].append((doc_id, title))\n"
   ]
  },
  {
   "cell_type": "code",
   "execution_count": 62,
   "metadata": {},
   "outputs": [
    {
     "name": "stdout",
     "output_type": "stream",
     "text": [
      "(16627, 15) (16627,)\n"
     ]
    }
   ],
   "source": [
    "X_test = []\n",
    "groups_test = []\n",
    "for new_group in testgroups_titledata:\n",
    "    docs = testgroups_titledata[new_group]\n",
    "    for k, (doc_id, title) in enumerate(docs):\n",
    "        groups_test.append(new_group)\n",
    "        all_dist = []\n",
    "        words = set(title.strip().split())\n",
    "        for j in range(0, len(docs)):\n",
    "            if k == j:\n",
    "                continue\n",
    "            doc_id_j, title_j = docs[j]\n",
    "            words_j = set(title_j.strip().split())\n",
    "            all_dist.append(len(words.intersection(words_j)))\n",
    "        X_test.append(sorted(all_dist, reverse=True)[0:15])\n",
    "X_test = np.array(X_test)\n",
    "groups_test = np.array(groups_test)\n",
    "print (X_test.shape, groups_test.shape)\n"
   ]
  },
  {
   "cell_type": "code",
   "execution_count": 63,
   "metadata": {},
   "outputs": [],
   "source": [
    "X_test_stand = scaler.transform(X_test)\n",
    "y_pred = clf_log.predict(X_test_stand)\n",
    "target = list(y_pred)\n",
    "df = pd.DataFrame({'pair_id': test_data['pair_id'],\n",
    "                      'target': target})\n",
    "df.to_csv('submission_2.csv', index=False)\n"
   ]
  },
  {
   "cell_type": "markdown",
   "metadata": {},
   "source": [
    "# Фидбек (бесценно)"
   ]
  },
  {
   "cell_type": "markdown",
   "metadata": {},
   "source": [
    "* Какие аспекты обучения линейных моделей Вам показались непонятными? Какое место стоит дополнительно объяснить?"
   ]
  },
  {
   "cell_type": "markdown",
   "metadata": {},
   "source": [
    "***Ваше ответ здесь***\n",
    "\n",
    "Единственный момент, который я не понял - подбор порога для получения оптимального значения функционала $ F_1 $. Я прошелся взглядом по статье \"Thresholding Classifiers to Maximize F1 Score\" (https://arxiv.org/abs/1402.1892), и вроде бы ответом на вопрос явлется максимальное значение функционала $ F_1 $, деленное пополам и равное 1/2.\n",
    "\n",
    "Но почему так происходит, не очень понятно."
   ]
  },
  {
   "cell_type": "markdown",
   "metadata": {},
   "source": [
    "* Здесь Вы можете оставить отзыв о этой домашней работе или о всем курсе.   "
   ]
  },
  {
   "cell_type": "markdown",
   "metadata": {},
   "source": [
    "***ВАШ ОТЗЫВ ЗДЕСЬ***\n",
    "\n",
    "Надо сказать, что хоть домашняя работа потребовала много усилий для ее качественного выполнения (в моем случае пришлось просрочить первый дэдлайн), хочется отметить хорошее наполнение как теоретической, так и практической составляющей.\n",
    "\n",
    "Теория позволила как следует запомнить некоторые вещи, покопаться в пару источниках для ответов на вопрос и даже выйти моментами за рамки курса (для удволетворения любопытства).\n",
    "\n",
    "Практика позволила по-настоящему понять, как устроены два типа регрессии и как можно их реализовать своими руками, не пользуясь готовыми решениями из пакета sklearn.\n",
    "\n",
    "Использование для боевого применения только приветствуется. Ну и когда есть возможность сделать пару сабмитов :)\n",
    "\n",
    "***Немного о курсе***\n",
    "\n",
    "Сейчас наступает переломный момент, когда вроде бы как сложность начинает спадать на нет. Новизна машинного обучения начинает пугать все меньше, а желание копаться в нём - все больше. В начале казалось, что получено слишком много новой информации. Но со временем она все-таки уложилась в голове при очередном осознании и повторении материала.\n",
    "\n",
    "Думаю, что пока курс мне нравится. Осталось еще поставить рекордный score на проекте, вот тогда вообще будет просто замечательно :)"
   ]
  },
  {
   "cell_type": "code",
   "execution_count": null,
   "metadata": {
    "collapsed": true
   },
   "outputs": [],
   "source": []
  },
  {
   "cell_type": "code",
   "execution_count": null,
   "metadata": {
    "collapsed": true
   },
   "outputs": [],
   "source": []
  }
 ],
 "metadata": {
  "anaconda-cloud": {},
  "kernelspec": {
   "display_name": "Python 3",
   "language": "python",
   "name": "python3"
  },
  "language_info": {
   "codemirror_mode": {
    "name": "ipython",
    "version": 3
   },
   "file_extension": ".py",
   "mimetype": "text/x-python",
   "name": "python",
   "nbconvert_exporter": "python",
   "pygments_lexer": "ipython3",
   "version": "3.7.6"
  },
  "nav_menu": {},
  "toc": {
   "colors": {
    "hover_highlight": "#DAA520",
    "navigate_num": "#000000",
    "navigate_text": "#333333",
    "running_highlight": "#FF0000",
    "selected_highlight": "#FFD700",
    "sidebar_border": "#EEEEEE",
    "wrapper_background": "#FFFFFF"
   },
   "moveMenuLeft": true,
   "nav_menu": {
    "height": "402px",
    "width": "253px"
   },
   "navigate_menu": true,
   "number_sections": false,
   "sideBar": true,
   "threshold": 4,
   "toc_cell": false,
   "toc_section_display": "block",
   "toc_window_display": true,
   "widenNotebook": false
  }
 },
 "nbformat": 4,
 "nbformat_minor": 2
}
